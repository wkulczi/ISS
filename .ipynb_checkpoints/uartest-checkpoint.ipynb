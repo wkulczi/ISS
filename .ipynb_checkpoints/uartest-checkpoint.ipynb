{
 "cells": [
  {
   "cell_type": "code",
   "execution_count": null,
   "metadata": {},
   "outputs": [],
   "source": [
    "import pandas as pd\n",
    "\n",
    "from issmath.UAR import UAR\n",
    "\n",
    "uar = UAR(30, 0.5, 1, 0, 3, 0.75, 0.025, 0.035, 0.02)\n",
    "uar.run_all()\n",
    "values = uar.get_h_values()\n",
    "x = pd.DataFrame.from_dict(values, orient=\"index\")\n",
    "\n",
    "print(x)\n",
    "\n",
    "x.plot.line()"
   ]
  }
 ],
 "metadata": {
  "kernelspec": {
   "display_name": "Python 3",
   "language": "python",
   "name": "python3"
  },
  "language_info": {
   "codemirror_mode": {
    "name": "ipython",
    "version": 3
   },
   "file_extension": ".py",
   "mimetype": "text/x-python",
   "name": "python",
   "nbconvert_exporter": "python",
   "pygments_lexer": "ipython3",
   "version": "3.8.5"
  }
 },
 "nbformat": 4,
 "nbformat_minor": 4
}
